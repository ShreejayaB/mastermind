{
 "cells": [
  {
   "cell_type": "code",
   "execution_count": 1,
   "metadata": {
    "ExecuteTime": {
     "end_time": "2020-06-19T23:18:37.393174Z",
     "start_time": "2020-06-19T23:18:37.390916Z"
    }
   },
   "outputs": [],
   "source": [
    "import itertools,random\n",
    "from collections import Counter"
   ]
  },
  {
   "cell_type": "markdown",
   "metadata": {},
   "source": [
    "Inspired from https://twitter.com/raymondh/status/1250998905984045056?lang=en"
   ]
  },
  {
   "cell_type": "code",
   "execution_count": 2,
   "metadata": {
    "ExecuteTime": {
     "end_time": "2020-06-19T23:18:52.849587Z",
     "start_time": "2020-06-19T23:18:52.844063Z"
    }
   },
   "outputs": [],
   "source": [
    "class Mastermind():\n",
    "    def __init__(self, code : str ):\n",
    "        \"\"\"\n",
    "        code : provide a four digit code (each digit can range from 0 to 5)\n",
    "        max_moves : integer limit of maximum moves \n",
    "        \"\"\"\n",
    "        self.code = code\n",
    "        self.possible_codes = list(itertools.product('012345', repeat=4))\n",
    "   \n",
    "    def score(self, p, q):\n",
    "        \"\"\"\n",
    "        Scoring function returns a tuple of correct matches and matches in wrong positions\n",
    "        \"\"\"\n",
    "        hits = sum(p_i == q_i for p_i, q_i in zip(p, q))\n",
    "        misses = sum((Counter(p) & Counter(q)).values()) - hits\n",
    "        return hits, misses "
   ]
  },
  {
   "cell_type": "code",
   "execution_count": 3,
   "metadata": {
    "ExecuteTime": {
     "end_time": "2020-06-19T23:19:14.228092Z",
     "start_time": "2020-06-19T23:19:14.219940Z"
    }
   },
   "outputs": [],
   "source": [
    "class Agent():\n",
    "    def __init__(self, game_class, random : bool, max_moves : int):\n",
    "        self.game_class = game_class\n",
    "        self.max_moves = max_moves\n",
    "        self.random = random # choose random agent / agent that learns\n",
    "        \n",
    "    def make_guess(self,possible_codes):\n",
    "        return  random.choice(possible_codes)\n",
    "    \n",
    "    def play_game(self):\n",
    "        game = self.game_class\n",
    "        cnt = 0 \n",
    "        if self.random:\n",
    "            for i in range(self.max_moves):\n",
    "                guess = self.make_guess(game.possible_codes)\n",
    "                score = game.score(game.code, guess)\n",
    "                if score[0] ==4:\n",
    "                    return ('Solved!',cnt)\n",
    "                cnt+=1\n",
    "            return 'Not Solved'\n",
    "        \n",
    "        else:\n",
    "            possibles = game.possible_codes\n",
    "            while len(possibles) > 1:\n",
    "                cnt += 1\n",
    "                guess = self.make_guess(possibles)\n",
    "                score = game.score(game.code, guess)\n",
    "                possibles = [p for p in possibles if game.score(p, guess) == score]\n",
    "\n",
    "                if len(possibles) == 1:\n",
    "                    if score[0] == 4:\n",
    "                        return ('Solved!',cnt)                    \n",
    "                    else:   \n",
    "                        return ('Solved!',cnt+1)                    \n",
    "            return 'Not Solved'"
   ]
  },
  {
   "cell_type": "code",
   "execution_count": 50,
   "metadata": {
    "ExecuteTime": {
     "end_time": "2020-06-19T23:57:42.487321Z",
     "start_time": "2020-06-19T23:57:42.480629Z"
    }
   },
   "outputs": [],
   "source": [
    "nums = [str(i) for i in range(10_000)]\n",
    "def evaluate(rand):\n",
    "    success = 0\n",
    "    moves = 0\n",
    "    for _ in range(100):\n",
    "        code = random.choice(nums)\n",
    "        game = Mastermind(code)\n",
    "        agent = Agent(game, rand, 10)\n",
    "        result = agent.play_game()\n",
    "        if result[0] == 'Solved!':\n",
    "            success += 1\n",
    "            moves += result[1]\n",
    "    return success"
   ]
  },
  {
   "cell_type": "markdown",
   "metadata": {},
   "source": [
    "## Random agent is not able to solve the code in 100 trial runs"
   ]
  },
  {
   "cell_type": "code",
   "execution_count": 51,
   "metadata": {
    "ExecuteTime": {
     "end_time": "2020-06-19T23:57:44.415636Z",
     "start_time": "2020-06-19T23:57:44.393302Z"
    }
   },
   "outputs": [
    {
     "data": {
      "text/plain": [
       "0"
      ]
     },
     "execution_count": 51,
     "metadata": {},
     "output_type": "execute_result"
    }
   ],
   "source": [
    "evaluate(rand=True)"
   ]
  },
  {
   "cell_type": "markdown",
   "metadata": {},
   "source": [
    "## Agent cracks the code around 50% of the trials"
   ]
  },
  {
   "cell_type": "code",
   "execution_count": 53,
   "metadata": {
    "ExecuteTime": {
     "end_time": "2020-06-19T23:58:40.360775Z",
     "start_time": "2020-06-19T23:58:39.167543Z"
    }
   },
   "outputs": [
    {
     "data": {
      "text/plain": [
       "48"
      ]
     },
     "execution_count": 53,
     "metadata": {},
     "output_type": "execute_result"
    }
   ],
   "source": [
    "evaluate(rand=False)"
   ]
  }
 ],
 "metadata": {
  "kernelspec": {
   "display_name": "Python 3",
   "language": "python",
   "name": "python3"
  },
  "language_info": {
   "codemirror_mode": {
    "name": "ipython",
    "version": 3
   },
   "file_extension": ".py",
   "mimetype": "text/x-python",
   "name": "python",
   "nbconvert_exporter": "python",
   "pygments_lexer": "ipython3",
   "version": "3.7.3"
  }
 },
 "nbformat": 4,
 "nbformat_minor": 2
}
