{
 "cells": [
  {
   "cell_type": "code",
   "execution_count": 34,
   "metadata": {},
   "outputs": [],
   "source": [
    "import torch\n",
    "import torch.nn as nn\n",
    "\n",
    "import numpy as np\n",
    "from config import max_guesses, guess_embedding_size, lstm_hidden_size,feedback_embedding_size, max_feedback\n",
    "                    \n",
    "\n",
    "\n",
    "class Policy(nn.Module):\n",
    "\n",
    "    def __init__(self):\n",
    "        super(Policy, self).__init__()\n",
    "        self.guess_embed    = nn.Embedding(max_guesses, guess_embedding_size)\n",
    "        self.pos_feedback_embed = nn.Embedding(max_guesses+1, feedback_embedding_size)  # pegs in right place\n",
    "        self.neg_feedback_embed = nn.Embedding(5, feedback_embedding_size)  # pegs in wrong place.\n",
    "        self.lstm      = nn.LSTM(input_size= guess_embedding_size + 2 * feedback_embedding_size,hidden_size=lstm_hidden_size)\n",
    "        self.fc             = nn.Linear(lstm_hidden_size, max_guesses)\n",
    "        \n",
    "    def forward(self, game_state):\n",
    "        \n",
    "        guesses = [elem[0] for elem in game_state]\n",
    "        feedbacks = [elem[1] for elem in game_state]\n",
    "        guesses = [self.guess_embed(torch.tensor(elem)) for elem in guesses]\n",
    "        feedbacks = [[self.pos_feedback_embed(torch.tensor(elem[0])),\n",
    "                      self.neg_feedback_embed(torch.tensor(elem[1]))] for elem in feedbacks]\n",
    "        feedbacks = [torch.cat(lst, -1) for lst in feedbacks]\n",
    "        \n",
    "        combined = [torch.cat([i,j], -1) for i,j in zip(guesses, feedbacks)]\n",
    "        combined = torch.stack(combined)\n",
    "        combined = torch.unsqueeze(combined,1)\n",
    "        combined,_ = self.lstm(combined)\n",
    "        \n",
    "        logits = self.fc(combined)\n",
    "        \n",
    "        \n",
    "        logits = nn.functional.softmax(logits,-1)\n",
    "        return logits\n",
    "                                                 "
   ]
  },
  {
   "cell_type": "code",
   "execution_count": 36,
   "metadata": {},
   "outputs": [],
   "source": [
    "pol = Policy()\n",
    "\n",
    "game_state = [(10, (1,1)), (20,(2,2))]\n",
    "\n",
    "logits = pol.forward(game_state)"
   ]
  },
  {
   "cell_type": "code",
   "execution_count": 37,
   "metadata": {},
   "outputs": [
    {
     "data": {
      "text/plain": [
       "torch.Size([2, 1, 1296])"
      ]
     },
     "execution_count": 37,
     "metadata": {},
     "output_type": "execute_result"
    }
   ],
   "source": [
    "logits.shape"
   ]
  },
  {
   "cell_type": "code",
   "execution_count": 3,
   "metadata": {},
   "outputs": [],
   "source": [
    "ep = Episode(pol, '1223')"
   ]
  },
  {
   "cell_type": "code",
   "execution_count": 39,
   "metadata": {},
   "outputs": [],
   "source": [
    "import itertools\n",
    "import random\n",
    "from collections import Counter"
   ]
  },
  {
   "cell_type": "code",
   "execution_count": 40,
   "metadata": {},
   "outputs": [
    {
     "data": {
      "text/plain": [
       "[(0, 0), (0, 1), (1, 0), (1, 1)]"
      ]
     },
     "execution_count": 40,
     "metadata": {},
     "output_type": "execute_result"
    }
   ],
   "source": [
    "list(itertools.product(range(2), repeat=2))"
   ]
  },
  {
   "cell_type": "code",
   "execution_count": null,
   "metadata": {},
   "outputs": [],
   "source": []
  },
  {
   "cell_type": "code",
   "execution_count": 66,
   "metadata": {},
   "outputs": [],
   "source": [
    "def score(p, q):\n",
    "    hits = sum(p_i == q_i for p_i, q_i in zip(p, q))\n",
    "    misses = sum((Counter(p) & Counter(q)).values()) - hits\n",
    "    return hits, misses\n",
    "\n",
    "\n",
    "def generate_best_pattern(code='1222'):\n",
    "    l = []\n",
    "    possibles = list(itertools.product('012345', repeat=4))\n",
    "    while len(possibles) > 1:\n",
    "        guess = random.choice(possibles)\n",
    "        if guess == code:\n",
    "            break\n",
    "        l.append(guess)\n",
    "        result = score(code, guess)\n",
    "        possibles = [p for p in possibles if score(p, guess) == result]\n",
    "    \n",
    "    l.append(possibles[0])\n",
    "    if l[-1]==l[-2]:\n",
    "        l = l[:-1]\n",
    "    \n",
    "    l = [''.join(lst) for lst in l]\n",
    "    return l\n",
    "\n",
    "def _number_from_index(index):\n",
    "        assert(0 <= index < 6**4)\n",
    "        digits = []\n",
    "        while index > 0:\n",
    "            digits.append(str(index % 6))\n",
    "            index = index // 6\n",
    "        return \"\".join(reversed(digits)).zfill(4)\n",
    "\n",
    "def gen_patterns(num):\n",
    "    \n",
    "    nums = np.random.randint(low=0, high=6**4, size=num)\n",
    "    nums = [_number_from_index(elem) for elem in nums]\n",
    "    return [generate_best_pattern(elem) for elem in nums]\n",
    "\n",
    "gen_patterns(20)"
   ]
  },
  {
   "cell_type": "code",
   "execution_count": null,
   "metadata": {},
   "outputs": [],
   "source": []
  }
 ],
 "metadata": {
  "kernelspec": {
   "display_name": "Python 3",
   "language": "python",
   "name": "python3"
  },
  "language_info": {
   "codemirror_mode": {
    "name": "ipython",
    "version": 3
   },
   "file_extension": ".py",
   "mimetype": "text/x-python",
   "name": "python",
   "nbconvert_exporter": "python",
   "pygments_lexer": "ipython3",
   "version": "3.7.6"
  }
 },
 "nbformat": 4,
 "nbformat_minor": 4
}
