{
 "cells": [
  {
   "cell_type": "code",
   "execution_count": 2,
   "metadata": {},
   "outputs": [],
   "source": [
    "import pickle\n",
    "import random\n",
    "\n",
    "from environment import Environment\n",
    "from agent import Agent"
   ]
  },
  {
   "cell_type": "code",
   "execution_count": 12,
   "metadata": {},
   "outputs": [],
   "source": [
    "## load trained q-learning agent.\n",
    "\n",
    "with open('learned_q_agent.pkl', 'rb') as f:\n",
    "    q_agent = pickle.load(f)\n",
    "\n",
    "def interactive_play(agent):\n",
    "    secret = input('please enter a secret code any pattern between 0000 - 5555')\n",
    "    '''interactive guesses on pressing enter'''\n",
    "    agent.reset_possible_states()\n",
    "    guess = agent.get_best_action()\n",
    "    env = Environment(secret)\n",
    "    print(f\"initial guess = {guess}\")\n",
    "    _ = input('press enter to let q-learning agent make the next guess')\n",
    "    while guess!= secret:\n",
    "        feedback = env.score(secret, guess)\n",
    "        agent.restrict_possible_states(guess, feedback)\n",
    "        guess = agent.get_best_action()\n",
    "        print(f\"next guess = {guess}\")\n",
    "        _ = input()\n",
    "        "
   ]
  },
  {
   "cell_type": "code",
   "execution_count": 13,
   "metadata": {},
   "outputs": [
    {
     "name": "stdin",
     "output_type": "stream",
     "text": [
      "please enter a secret code any pattern between 0000 - 5555 0011\n"
     ]
    },
    {
     "name": "stdout",
     "output_type": "stream",
     "text": [
      "initial guess = 0203\n"
     ]
    },
    {
     "name": "stdin",
     "output_type": "stream",
     "text": [
      "press enter to let q-learning agent make the next guess \n"
     ]
    },
    {
     "name": "stdout",
     "output_type": "stream",
     "text": [
      "next guess = 4232\n"
     ]
    },
    {
     "name": "stdin",
     "output_type": "stream",
     "text": [
      " \n"
     ]
    },
    {
     "name": "stdout",
     "output_type": "stream",
     "text": [
      "next guess = 1000\n"
     ]
    },
    {
     "name": "stdin",
     "output_type": "stream",
     "text": [
      " \n"
     ]
    },
    {
     "name": "stdout",
     "output_type": "stream",
     "text": [
      "next guess = 0015\n"
     ]
    },
    {
     "name": "stdin",
     "output_type": "stream",
     "text": [
      " \n"
     ]
    },
    {
     "name": "stdout",
     "output_type": "stream",
     "text": [
      "next guess = 0011\n"
     ]
    },
    {
     "name": "stdin",
     "output_type": "stream",
     "text": [
      " \n"
     ]
    }
   ],
   "source": [
    "interactive_play(q_agent)"
   ]
  },
  {
   "cell_type": "code",
   "execution_count": null,
   "metadata": {},
   "outputs": [],
   "source": []
  }
 ],
 "metadata": {
  "kernelspec": {
   "display_name": "Python 3",
   "language": "python",
   "name": "python3"
  },
  "language_info": {
   "codemirror_mode": {
    "name": "ipython",
    "version": 3
   },
   "file_extension": ".py",
   "mimetype": "text/x-python",
   "name": "python",
   "nbconvert_exporter": "python",
   "pygments_lexer": "ipython3",
   "version": "3.7.6"
  }
 },
 "nbformat": 4,
 "nbformat_minor": 4
}
