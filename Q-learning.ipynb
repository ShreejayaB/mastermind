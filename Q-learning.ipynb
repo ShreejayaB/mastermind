{
 "cells": [
  {
   "cell_type": "markdown",
   "metadata": {},
   "source": [
    "## Environment"
   ]
  },
  {
   "cell_type": "code",
   "execution_count": 47,
   "metadata": {},
   "outputs": [],
   "source": [
    "## From https://github.com/egeromin/mastermind/\n",
    "\n",
    "import config\n",
    "import numpy as np\n",
    "import itertools\n",
    "import random\n",
    "from collections import Counter\n",
    "\n",
    "\n",
    "class Environment:\n",
    "    '''Environment for mastermind game'''\n",
    "    def __init__(self, secret):\n",
    "        if isinstance(secret, int):\n",
    "            secret = self._number_from_index(secret)\n",
    "        self.secret = secret\n",
    "\n",
    "    @staticmethod\n",
    "    def _index_from_number(number):\n",
    "        \"\"\"\n",
    "        Convert a 4-digit guess to an index between 0 and 6**4 -  1\n",
    "        0 = 0000\n",
    "        1 = 0001\n",
    "        .\n",
    "        .\n",
    "        .\n",
    "        6**4-1 = 5555\n",
    "        \"\"\"\n",
    "        assert(len(number) <= 4)\n",
    "        assert(set(number) <= set(map(str, range(6))))\n",
    "        return int(number, base=6)\n",
    "\n",
    "    @staticmethod\n",
    "    def _number_from_index(index):\n",
    "        '''inverse of _index_from_number function'''\n",
    "        assert(0 <= index < config.max_guesses)\n",
    "        digits = []\n",
    "        while index > 0:\n",
    "            digits.append(str(index % 6))\n",
    "            index = index // 6\n",
    "        return \"\".join(reversed(digits)).zfill(4)\n",
    "    \n",
    "    @staticmethod\n",
    "    def score(p, q):\n",
    "        '''feedback given during the mastermind game'''\n",
    "        hits = sum(p_i == q_i for p_i, q_i in zip(p, q))\n",
    "        misses = sum((Counter(p) & Counter(q)).values()) - hits\n",
    "        return hits, misses\n",
    "    \n",
    "    def get_feedback(self,action):\n",
    "        '''feedback for the current guess and secret'''\n",
    "        return self.score(self.secret, action)\n",
    "    \n",
    "    def reward(self, guess):\n",
    "        '''returns reward for a guess'''\n",
    "        if guess == self.secret:\n",
    "            return 1\n",
    "        else:\n",
    "            return -1\n",
    "         \n",
    "    "
   ]
  },
  {
   "cell_type": "markdown",
   "metadata": {},
   "source": [
    "Testing Episode class"
   ]
  },
  {
   "cell_type": "markdown",
   "metadata": {},
   "source": [
    "# Q-Learning"
   ]
  },
  {
   "cell_type": "code",
   "execution_count": 65,
   "metadata": {},
   "outputs": [],
   "source": [
    "class Agent:\n",
    "    '''Q learning Agent'''\n",
    "    def __init__(self, epsilon=0.1, alpha=1.0):\n",
    "        self.initialize_V()\n",
    "        self.epsilon = epsilon\n",
    "        self.alpha = alpha\n",
    "        self.reset_possible_states()\n",
    "        \n",
    "        \n",
    "    \n",
    "    def initialize_V(self):\n",
    "        '''initializes State Value function with zeros'''\n",
    "        self.V = {}\n",
    "        for idx in range(0, 6**4):\n",
    "            self.V[Environment._number_from_index(idx)] = 0\n",
    "\n",
    "    def reset_possible_states(self):\n",
    "        '''set of possible states for the next action'''\n",
    "        self.possible_states = list(self.V.keys())\n",
    "    \n",
    "    def restrict_possible_states(self, guess, feedback):\n",
    "        '''restrict the possible states according to previous guesses'''\n",
    "        new_states = [state for state in self.possible_states if Environment.score(guess, state)==feedback]\n",
    "        self.possible_states = new_states\n",
    "        \n",
    "    def learn_select_move(self):\n",
    "        \n",
    "        best_move = self.get_best_action()\n",
    "        \n",
    "        selected_move = best_move\n",
    "        if random.random() < self.epsilon:\n",
    "            selected_move = self.random_action()\n",
    "        \n",
    "        return (best_move, selected_move)\n",
    "    \n",
    "    def get_best_action(self):\n",
    "        \"For the best possible states, chose randomly amongst them.\"\n",
    "        V_values = [self.V[state] for state in self.possible_states]\n",
    "        max_V = max(V_values)\n",
    "        chosen_state = random.choice([state for state in self.possible_states if self.V[state] == max_V])\n",
    "        return chosen_state\n",
    "    \n",
    "    def random_action(self):\n",
    "        return random.choice(self.possible_states)\n",
    "    \n",
    "    def make_move(self, action, feedback):\n",
    "        self.restrict_possible_states(action, feedback)\n",
    "        \n",
    "    def learn_from_move(self, action, feedback, reward):\n",
    "        \"The heart of Q-learning.\"\n",
    "        \n",
    "        # TODO: Finish each line with code and comments\n",
    "        current_state = action  # action = state (guess the agent makes)\n",
    "        r = reward  # reward for this state\n",
    "\n",
    "        \n",
    "        self.make_move(action, feedback) ## restrict the states first\n",
    "        \n",
    "        best_next_move, selected_next_move = self.learn_select_move()  # Exploration vs exploitation\n",
    "        \n",
    "        current_state_value = self.V[current_state] # current value of state\n",
    "        best_move_value = self.V[best_next_move]  # best possible value of next state.\n",
    "        td_target = current_state_value + self.alpha * (r + best_move_value - \n",
    "                                                        current_state_value)  # Q-algorithm update\n",
    "        self.V[current_state] = td_target # This is Q-learning. The previous lines setup this line. \n",
    "        "
   ]
  },
  {
   "cell_type": "markdown",
   "metadata": {},
   "source": [
    "## baseline performance"
   ]
  },
  {
   "cell_type": "code",
   "execution_count": 177,
   "metadata": {},
   "outputs": [],
   "source": [
    "def random_agent_performance(secret='1234'):\n",
    "    '''return num of guesses needed to get secret for an random agent'''\n",
    "    random_agent = Agent()\n",
    "    random_agent.reset_possible_states()\n",
    "    guess = random_agent.get_best_action()\n",
    "    env = Environment(secret)\n",
    "    num_guess = 1\n",
    "    while guess!= secret:\n",
    "        random_agent.possible_states.remove(guess)\n",
    "        guess = random_agent.get_best_action()\n",
    "        num_guess += 1\n",
    "    return num_guess\n",
    "\n",
    "def random_agent_average_performance(num):\n",
    "    l = []\n",
    "    for _ in range(num):\n",
    "        secret = Environment._number_from_index(random.randint(0, 6**4-1))\n",
    "        length = random_agent_performance(secret)\n",
    "        l.append(length)\n",
    "    return sum(l)/len(l)"
   ]
  },
  {
   "cell_type": "code",
   "execution_count": 178,
   "metadata": {},
   "outputs": [
    {
     "data": {
      "text/plain": [
       "584.2"
      ]
     },
     "execution_count": 178,
     "metadata": {},
     "output_type": "execute_result"
    }
   ],
   "source": [
    "random_agent_average_performance(50)"
   ]
  },
  {
   "cell_type": "markdown",
   "metadata": {},
   "source": [
    "There are 1296 possibile patterns in the mastermind game. An agent which choose random action, takes around ~ **584** guesses to match the target secret code. This random agent does not take feedback into consideration"
   ]
  },
  {
   "cell_type": "markdown",
   "metadata": {},
   "source": [
    "Instead of using random agent as the baseline which will use the Five Guess algorithm to compare the performace of our Q-learning agent."
   ]
  },
  {
   "cell_type": "markdown",
   "metadata": {},
   "source": [
    "Five guess algorithm solves the mastermind game with 5 or less number of guesses."
   ]
  },
  {
   "cell_type": "markdown",
   "metadata": {},
   "source": [
    "## Training Agent using Q-learning"
   ]
  },
  {
   "cell_type": "code",
   "execution_count": 191,
   "metadata": {},
   "outputs": [],
   "source": [
    "def train(agent, n_episodes):\n",
    "    '''\n",
    "    Train the agent for n_episodes.\n",
    "    '''\n",
    "    for _ in range(n_episodes):\n",
    "        secret = Environment._number_from_index(random.randint(0, 6**4 - 1))\n",
    "        env = Environment(secret)\n",
    "        agent.reset_possible_states()\n",
    "        action = agent.random_action()  # init action\n",
    "        \n",
    "        if action == secret: # if init guess is crt skip this episode\n",
    "            continue\n",
    "            \n",
    "        run = True\n",
    "        while run:\n",
    "            feedback = env.get_feedback(action)\n",
    "            reward   = env.reward(action)\n",
    "            agent.learn_from_move(action, feedback, reward)\n",
    "            \n",
    "            if action == secret:\n",
    "                break  # correct guess stop episode\n",
    "            else:\n",
    "                action = agent.random_action()  # else next guess\n",
    "            "
   ]
  },
  {
   "cell_type": "code",
   "execution_count": 192,
   "metadata": {},
   "outputs": [],
   "source": [
    "def num_guesses(agent, secret='1234'):\n",
    "    '''return number of guesses needed by the agent to\n",
    "    get to the secret'''\n",
    "    agent.reset_possible_states()\n",
    "    guess = agent.get_best_action()\n",
    "    env = Environment(secret)\n",
    "    num_guess = 1\n",
    "    while guess!= secret:\n",
    "        feedback = env.score(secret, guess)\n",
    "        agent.restrict_possible_states(guess, feedback)\n",
    "        guess = agent.get_best_action()\n",
    "        num_guess += 1\n",
    "    return num_guess"
   ]
  },
  {
   "cell_type": "code",
   "execution_count": 193,
   "metadata": {},
   "outputs": [],
   "source": [
    "def avg_num_guesses_needed(agent):\n",
    "    '''average number guesses needed for all the possible secret codes'''\n",
    "    \n",
    "    nums = [] \n",
    "    \n",
    "    for idx in range(6**4):\n",
    "        secret = Environment._number_from_index(idx)\n",
    "        length = num_guesses(agent, secret)\n",
    "        nums.append(length)\n",
    "        \n",
    "#     print(nums)\n",
    "    return sum(nums)/len(nums)\n",
    "    "
   ]
  },
  {
   "cell_type": "code",
   "execution_count": 194,
   "metadata": {},
   "outputs": [],
   "source": [
    "def worst_case_length(agent):\n",
    "    '''num of guesses needed in worst case'''\n",
    "    \n",
    "    nums = [] \n",
    "    \n",
    "    for idx in range(6**4):\n",
    "        secret = Environment._number_from_index(idx)\n",
    "        length = num_guesses(agent, secret)\n",
    "        nums.append(length)\n",
    "        \n",
    "#     print(nums)\n",
    "    return max(nums)\n",
    "    "
   ]
  },
  {
   "cell_type": "code",
   "execution_count": 195,
   "metadata": {},
   "outputs": [],
   "source": [
    "def interactive_play(agent, secret='1234'):\n",
    "    '''interactive guesses on pressing enter'''\n",
    "    agent.reset_possible_states()\n",
    "    guess = agent.get_best_action()\n",
    "    env = Environment(secret)\n",
    "    print(f\"initial guess = {guess}\")\n",
    "    _ = input()\n",
    "    while guess!= secret:\n",
    "        feedback = env.score(secret, guess)\n",
    "        agent.restrict_possible_states(guess, feedback)\n",
    "        guess = agent.get_best_action()\n",
    "        print(f\"next guess = {guess}\")\n",
    "        _ = input()\n",
    "        "
   ]
  },
  {
   "cell_type": "markdown",
   "metadata": {},
   "source": [
    "### train for 2000 episodes"
   ]
  },
  {
   "cell_type": "code",
   "execution_count": 196,
   "metadata": {},
   "outputs": [],
   "source": [
    "q_agent = Agent()"
   ]
  },
  {
   "cell_type": "code",
   "execution_count": null,
   "metadata": {},
   "outputs": [],
   "source": [
    "train(q_agent, 2000)"
   ]
  },
  {
   "cell_type": "code",
   "execution_count": null,
   "metadata": {},
   "outputs": [],
   "source": []
  }
 ],
 "metadata": {
  "kernelspec": {
   "display_name": "Python 3",
   "language": "python",
   "name": "python3"
  },
  "language_info": {
   "codemirror_mode": {
    "name": "ipython",
    "version": 3
   },
   "file_extension": ".py",
   "mimetype": "text/x-python",
   "name": "python",
   "nbconvert_exporter": "python",
   "pygments_lexer": "ipython3",
   "version": "3.7.6"
  }
 },
 "nbformat": 4,
 "nbformat_minor": 4
}
