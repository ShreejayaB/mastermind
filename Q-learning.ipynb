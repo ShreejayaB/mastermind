{
 "cells": [
  {
   "cell_type": "code",
   "execution_count": 1,
   "metadata": {},
   "outputs": [],
   "source": [
    "## From https://github.com/egeromin/mastermind/\n",
    "\n",
    "import config\n",
    "import numpy as np\n",
    "import itertools\n",
    "import random\n",
    "from collections import Counter\n",
    "\n",
    "\n",
    "class Environment:\n",
    "    '''generate episode for Agent to learn using Q-learning algorithm'''\n",
    "    \n",
    "\n",
    "    def __init__(self, secret):\n",
    "        if isinstance(secret, int):\n",
    "            secret = self._number_from_index(secret)\n",
    "        self.secret = secret\n",
    "\n",
    "    @staticmethod\n",
    "    def _index_from_number(number):\n",
    "        \"\"\"\n",
    "        Convert a 4-digit guess to an index between 0 and 6**4 \n",
    "        \"\"\"\n",
    "        assert(len(number) <= 4)\n",
    "        assert(set(number) <= set(map(str, range(6))))\n",
    "        return int(number, base=6)\n",
    "\n",
    "    @staticmethod\n",
    "    def _number_from_index(index):\n",
    "        assert(0 <= index < config.max_guesses)\n",
    "        digits = []\n",
    "        while index > 0:\n",
    "            digits.append(str(index % 6))\n",
    "            index = index // 6\n",
    "        return \"\".join(reversed(digits)).zfill(4)\n",
    "    \n",
    "    @staticmethod\n",
    "    def score(p, q):\n",
    "        hits = sum(p_i == q_i for p_i, q_i in zip(p, q))\n",
    "        misses = sum((Counter(p) & Counter(q)).values()) - hits\n",
    "        return hits, misses\n",
    " \n",
    "    def generate_random_episodes(self):\n",
    "        \n",
    "        lst = []\n",
    "        \n",
    "        for idx in range(config.max_episode_length):\n",
    "            guess = random.randint(0, 6**4 - 1)\n",
    "            guess = self._number_from_index(guess)\n",
    "            lst.append((guess, self.score(self.secret, guess)))\n",
    "            if guess == self.secret:\n",
    "                return lst\n",
    "                       \n",
    "        return lst\n",
    "    \n",
    "    def reward(self, guess):\n",
    "        if guess == self.secret:\n",
    "            return 1\n",
    "        else:\n",
    "            return -1\n",
    "         \n",
    "    "
   ]
  },
  {
   "cell_type": "markdown",
   "metadata": {},
   "source": [
    "Testing Episode class"
   ]
  },
  {
   "cell_type": "markdown",
   "metadata": {},
   "source": [
    "# Q-Learning"
   ]
  },
  {
   "cell_type": "code",
   "execution_count": 17,
   "metadata": {},
   "outputs": [],
   "source": [
    "class Agent:\n",
    "    \n",
    "    def __init__(self, epsilon=0.1, alpha=1.0):\n",
    "        self.initialize_V()\n",
    "        self.epsilon = epsilon\n",
    "        self.alpha = alpha\n",
    "        self.reset_possible_states()\n",
    "        \n",
    "        \n",
    "    \n",
    "    def initialize_V(self):\n",
    "        '''initializes State Value function with zeros'''\n",
    "        self.V = {}\n",
    "        for idx in range(0, 6**4):\n",
    "            self.V[Environment._number_from_index(idx)] = 0\n",
    "\n",
    "    def reset_possible_states(self):\n",
    "        self.possible_states = list(self.V.keys())\n",
    "    \n",
    "    def restrict_possible_states(self, guess, feedback):\n",
    "        new_states = [state for state in self.possible_states if Environment.score(guess, state)==feedback]\n",
    "        self.possible_states = new_states\n",
    "        \n",
    "    def learn_select_move(self):\n",
    "        \n",
    "        best_move = self.get_best_action()\n",
    "        \n",
    "        selected_move = best_move\n",
    "        if random.random() < self.epsilon:\n",
    "            selected_move = self.random_action()\n",
    "        \n",
    "        return (best_move, selected_move)\n",
    "    \n",
    "    def get_best_action(self):\n",
    "        \"For the best possible states, chose randomly amongst them.\"\n",
    "        V_values = [self.V[state] for state in self.possible_states]\n",
    "        max_V = max(V_values)\n",
    "        chosen_state = random.choice([state for state in self.possible_states if self.V[state] == max_V])\n",
    "        return chosen_state\n",
    "    \n",
    "    def random_action(self):\n",
    "        return random.choice(self.possible_states)\n",
    "    \n",
    "    def make_move(self, action, feedback):\n",
    "        self.restrict_possible_states(action, feedback)\n",
    "        \n",
    "    def learn_from_move(self, action, feedback, reward):\n",
    "        \"The heart of Q-learning.\"\n",
    "        \n",
    "        # TODO: Finish each line with code and comments\n",
    "        current_state = action  # action = state (guess the agent makes)\n",
    "        r = reward  # reward for this state\n",
    "        if r == 1:\n",
    "            print(f\"guess = secret\")\n",
    "            return \n",
    "        \n",
    "        self.make_move(action, feedback) ## restrict the states first\n",
    "        \n",
    "        best_next_move, selected_next_move = self.learn_select_move()  # Exploration vs exploitation\n",
    "        \n",
    "        current_state_value = self.V[current_state] # current value of state\n",
    "        best_move_value = self.V[best_next_move]  # best possible value of next state.\n",
    "        td_target = current_state_value + self.alpha * (r + best_move_value - \n",
    "                                                        current_state_value)  # Q-algorithm update\n",
    "        self.V[current_state] = td_target # This is Q-learning. The previous lines setup this line. \n",
    "        \n",
    "        \n",
    "        \n",
    "    \n",
    "        "
   ]
  },
  {
   "cell_type": "code",
   "execution_count": 18,
   "metadata": {},
   "outputs": [],
   "source": [
    "agent = Agent()"
   ]
  },
  {
   "cell_type": "code",
   "execution_count": 19,
   "metadata": {},
   "outputs": [],
   "source": [
    "def guess_the_code(secret='1234'):\n",
    "    agent.reset_possible_states()\n",
    "    guess = agent.get_best_action()\n",
    "    env = Environment(secret)\n",
    "    print(f\"initial guess = {guess}\")\n",
    "    _ = input()\n",
    "    while guess!= secret:\n",
    "        feedback = env.score(secret, guess)\n",
    "        agent.restrict_possible_states(guess, feedback)\n",
    "        guess = agent.get_best_action()\n",
    "        print(f\"next guess = {guess}\")\n",
    "        _ = input()\n",
    "        "
   ]
  },
  {
   "cell_type": "code",
   "execution_count": 20,
   "metadata": {},
   "outputs": [
    {
     "name": "stdout",
     "output_type": "stream",
     "text": [
      "initial guess = 5123\n"
     ]
    },
    {
     "name": "stdin",
     "output_type": "stream",
     "text": [
      " \n"
     ]
    },
    {
     "name": "stdout",
     "output_type": "stream",
     "text": [
      "next guess = 3231\n"
     ]
    },
    {
     "name": "stdin",
     "output_type": "stream",
     "text": [
      " \n"
     ]
    },
    {
     "name": "stdout",
     "output_type": "stream",
     "text": [
      "next guess = 2031\n"
     ]
    },
    {
     "name": "stdin",
     "output_type": "stream",
     "text": [
      " \n"
     ]
    },
    {
     "name": "stdout",
     "output_type": "stream",
     "text": [
      "next guess = 1232\n"
     ]
    },
    {
     "name": "stdin",
     "output_type": "stream",
     "text": [
      " \n"
     ]
    },
    {
     "name": "stdout",
     "output_type": "stream",
     "text": [
      "next guess = 1234\n"
     ]
    },
    {
     "name": "stdin",
     "output_type": "stream",
     "text": [
      " \n"
     ]
    }
   ],
   "source": [
    "guess_the_code()"
   ]
  },
  {
   "cell_type": "code",
   "execution_count": 132,
   "metadata": {},
   "outputs": [
    {
     "name": "stdout",
     "output_type": "stream",
     "text": [
      "initial guess = 4433\n"
     ]
    },
    {
     "name": "stdin",
     "output_type": "stream",
     "text": [
      " \n"
     ]
    },
    {
     "name": "stdout",
     "output_type": "stream",
     "text": [
      "next guess = 2030\n"
     ]
    },
    {
     "name": "stdin",
     "output_type": "stream",
     "text": [
      " \n"
     ]
    },
    {
     "name": "stdout",
     "output_type": "stream",
     "text": [
      "next guess = 0421\n"
     ]
    },
    {
     "name": "stdin",
     "output_type": "stream",
     "text": [
      " \n"
     ]
    },
    {
     "name": "stdout",
     "output_type": "stream",
     "text": [
      "next guess = 1223\n"
     ]
    },
    {
     "name": "stdin",
     "output_type": "stream",
     "text": [
      " \n"
     ]
    }
   ],
   "source": [
    "guess_the_code('1223')"
   ]
  }
 ],
 "metadata": {
  "kernelspec": {
   "display_name": "Python 3",
   "language": "python",
   "name": "python3"
  },
  "language_info": {
   "codemirror_mode": {
    "name": "ipython",
    "version": 3
   },
   "file_extension": ".py",
   "mimetype": "text/x-python",
   "name": "python",
   "nbconvert_exporter": "python",
   "pygments_lexer": "ipython3",
   "version": "3.7.6"
  }
 },
 "nbformat": 4,
 "nbformat_minor": 4
}
