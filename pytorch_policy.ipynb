{
 "cells": [
  {
   "cell_type": "code",
   "execution_count": 22,
   "metadata": {},
   "outputs": [
    {
     "name": "stdout",
     "output_type": "stream",
     "text": [
      "Writing pytorch_policy.py\n"
     ]
    }
   ],
   "source": [
    "%%wr\n",
    "import torch\n",
    "import torch.nn as nn\n",
    "from episode import Episode\n",
    "import numpy as np\n",
    "from config import max_guesses, guess_embedding_size, lstm_hidden_size,feedback_embedding_size, max_feedback\n",
    "                    \n",
    "\n",
    "np.random.seed(123)\n",
    "\n",
    "class Policy(nn.Module):\n",
    "\n",
    "    def __init__(self):\n",
    "        super(Policy, self).__init__()\n",
    "        self.guess_embed    = nn.Embedding(max_guesses+1, guess_embedding_size)\n",
    "        self.feedback_embed = nn.Embedding(max_guesses+1, feedback_embedding_size)\n",
    "        self.lstm_cell      = nn.LSTMCell(input_size = guess_embedding_size + feedback_embedding_size,\n",
    "                                      hidden_size = lstm_hidden_size)\n",
    "        self.fc             = nn.Linear(lstm_hidden_size, max_guesses)\n",
    "        \n",
    "    def forward(self, game_state):\n",
    "        \n",
    "        hidden = None\n",
    "        cell_state = None\n",
    "        for guess, feedback in game_state:\n",
    "            guess_tensor      = torch.tensor(guess)\n",
    "            feedback_tensor   = torch.tensor(feedback)\n",
    "            guess_embedded    = self.guess_embed(guess_tensor)\n",
    "            feedback_embedded = self.feedback_embed(feedback_tensor)\n",
    "            combined_embedded = torch.cat([guess_embedded, feedback_embedded],\n",
    "                                         axis=-1)\n",
    "            # input of shape (seq_len, batch, input_size)\n",
    "            combined_embedded = combined_embedded.reshape(1,-1)            \n",
    "            if hidden == None:\n",
    "                hidden, cell_state = self.lstm_cell(combined_embedded)\n",
    "#                 print(hidden.shape, cell_state.shape)\n",
    "            else:\n",
    "                hidden, cell_state = self.lstm_cell(combined_embedded, (hidden, combined_embedded))\n",
    "        \n",
    "        logits = self.fc(hidden)\n",
    "        \n",
    "        logits = nn.functional.softmax(logits)\n",
    "        return logits\n",
    "                                                 "
   ]
  },
  {
   "cell_type": "code",
   "execution_count": null,
   "metadata": {},
   "outputs": [],
   "source": []
  }
 ],
 "metadata": {
  "kernelspec": {
   "display_name": "mastermind",
   "language": "python",
   "name": "mastermind"
  },
  "language_info": {
   "codemirror_mode": {
    "name": "ipython",
    "version": 3
   },
   "file_extension": ".py",
   "mimetype": "text/x-python",
   "name": "python",
   "nbconvert_exporter": "python",
   "pygments_lexer": "ipython3",
   "version": "3.8.3"
  }
 },
 "nbformat": 4,
 "nbformat_minor": 4
}
