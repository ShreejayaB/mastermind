{
 "cells": [
  {
   "cell_type": "code",
   "execution_count": 1,
   "metadata": {},
   "outputs": [],
   "source": [
    "import config\n",
    "import numpy as np\n",
    "import ipdb\n",
    "\n",
    "class Episode:\n",
    "\n",
    "    start_guess = config.max_guesses\n",
    "    start_feedback = config.max_feedback\n",
    "    triangle_numbers = [0, 1, 3, 6, 10]\n",
    "\n",
    "    def __init__(self, policy, secret):\n",
    "        self.policy = policy\n",
    "        if isinstance(secret, int):\n",
    "            secret = self._number_from_index(secret)\n",
    "        self.secret = secret\n",
    "        self.secret_sorted = sorted(secret)\n",
    "\n",
    "    @staticmethod\n",
    "    def _index_from_number(number):\n",
    "        \"\"\"\n",
    "        Convert a 4-digit guess to an index between 0 and 6**4 \n",
    "        \"\"\"\n",
    "        assert(len(number) <= 4)\n",
    "        assert(set(number) <= set(map(str, range(5))))\n",
    "        return int(number, base=6)\n",
    "\n",
    "    @staticmethod\n",
    "    def _number_from_index(index):\n",
    "        assert(0 <= index < config.max_guesses)\n",
    "        digits = []\n",
    "        while index > 0:\n",
    "            digits.append(str(index % 6))\n",
    "            index = index // 6\n",
    "        return \"\".join(reversed(digits)).zfill(4)\n",
    "\n",
    "    @classmethod\n",
    "    def _index_from_feedback(cls, feedback):\n",
    "        \"\"\"\n",
    "        Convert a feedback dict to an index\n",
    "\n",
    "        Use triangle numbers to do this. E.g.\n",
    "\n",
    "        ++++ -> 14\n",
    "        / -> 0\n",
    "        +-- -> 7\n",
    "        \"\"\"\n",
    "        assert(list(sorted(feedback.keys())) == ['+', '-'])\n",
    "        return cls.triangle_numbers[sum(feedback.values())] + feedback['+']\n",
    "        \n",
    "    def _feedback_from_guess(self, guess):\n",
    "        def negative_hamming(a, b):\n",
    "            \"\"\"'opposite' of the Hamming distance\n",
    "\n",
    "            Counts the number of symbols that are equal\n",
    "            \"\"\"\n",
    "            return sum([x == y for x, y in zip(a, b)])\n",
    "\n",
    "        compare = negative_hamming(self.secret, guess)\n",
    "        compare_sorted = negative_hamming(self.secret_sorted, guess)\n",
    "        return {\n",
    "            '+': compare,\n",
    "            '-': compare_sorted - compare\n",
    "        }\n",
    "\n",
    "    @staticmethod\n",
    "    def _select_next_action(action_distribution):\n",
    "        \"\"\"Sample the next action based on the action distribution\"\"\"\n",
    "        action_dist = action_distribution.detach().numpy().reshape(-1)\n",
    "        # `action_distribution` is a tensor\n",
    "        return np.random.choice(action_dist.shape[0],\n",
    "                                p=action_dist)\n",
    "\n",
    "    def generate(self):\n",
    "        episode = [(self.start_guess, self.start_feedback)]\n",
    "\n",
    "        for _ in range(config.max_episode_length):\n",
    "            guess = self._select_next_action(self.policy(episode))\n",
    "            feedback = self._index_from_feedback(\n",
    "                self._feedback_from_guess(\n",
    "                    self._number_from_index(guess)))\n",
    "            episode.append((guess, feedback))\n",
    "            if feedback == 14:\n",
    "                break  # this corresponds to a correct guess\n",
    "\n",
    "        return episode\n",
    "\n"
   ]
  },
  {
   "cell_type": "code",
   "execution_count": 9,
   "metadata": {},
   "outputs": [],
   "source": [
    "ep = Episode(policy=' ',secret= '1234')"
   ]
  },
  {
   "cell_type": "code",
   "execution_count": 12,
   "metadata": {},
   "outputs": [
    {
     "data": {
      "text/plain": [
       "5"
      ]
     },
     "execution_count": 12,
     "metadata": {},
     "output_type": "execute_result"
    }
   ],
   "source": [
    "ep._index_from_feedback(ep._feedback_from_guess('1242'))"
   ]
  },
  {
   "cell_type": "code",
   "execution_count": null,
   "metadata": {},
   "outputs": [],
   "source": []
  }
 ],
 "metadata": {
  "kernelspec": {
   "display_name": "Python 3",
   "language": "python",
   "name": "python3"
  },
  "language_info": {
   "codemirror_mode": {
    "name": "ipython",
    "version": 3
   },
   "file_extension": ".py",
   "mimetype": "text/x-python",
   "name": "python",
   "nbconvert_exporter": "python",
   "pygments_lexer": "ipython3",
   "version": "3.7.6"
  }
 },
 "nbformat": 4,
 "nbformat_minor": 4
}